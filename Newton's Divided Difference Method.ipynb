{
 "cells": [
  {
   "cell_type": "code",
   "execution_count": 1,
   "metadata": {},
   "outputs": [
    {
     "name": "stdout",
     "output_type": "stream",
     "text": [
      "16.65 \t 0.14 \t -0.1173 \t 0.0152 \t \n",
      "17 \t -0.74 \t 0.0425 \t \n",
      "13.3 \t -0.4 \t \n",
      "12.1 \t \n",
      "\n",
      "The call option price at 1770 is 15.40764\n"
     ]
    }
   ],
   "source": [
    "# Newton divided difference formula \n",
    "\n",
    "# product term \n",
    "def proterm(i, value, x): \n",
    "    pro = 1; \n",
    "    for j in range(i): \n",
    "        pro = pro * (value - x[j]); \n",
    "    return pro; \n",
    "\n",
    "# Function for calculating divided difference table \n",
    "def dividedDiffTable(x, y, n): \n",
    "\n",
    "    for i in range(1, n): \n",
    "        for j in range(n - i): \n",
    "            y[j][i] = ((y[j][i - 1] - y[j + 1][i - 1]) /(x[j] - x[i + j])); \n",
    "    return y; \n",
    "\n",
    "# Function for applying Newton'sdivided difference formula \n",
    "def applyFormula(value, x, y, n): \n",
    "\n",
    "    sum = y[0][0]; \n",
    "\n",
    "    for i in range(1, n): \n",
    "        sum = sum + (proterm(i, value, x) * y[0][i]); \n",
    "    return sum; \n",
    "\n",
    "# Function for displaying divided difference table \n",
    "def printDiffTable(y, n): \n",
    "\n",
    "    for i in range(n): \n",
    "        for j in range(n - i): \n",
    "            print(round(y[i][j], 4), \"\\t\", end = \" \"); \n",
    "\n",
    "        print(\"\"); \n",
    "        \n",
    "#inputs \n",
    "n = 4; \n",
    "y = [[0 for i in range(10)] \n",
    "     for j in range(10)]; \n",
    "x = [ 1765, 1767.5, 1772.5, 1775.5 ]; #Amazon four strike price\n",
    "\n",
    "\n",
    "#Amazon four last sold price value\n",
    "y[0][0] = 16.65; \n",
    "y[1][0] = 17; \n",
    "y[2][0] = 13.3; \n",
    "y[3][0] = 12.1; \n",
    "\n",
    "y=dividedDiffTable(x, y, n); \n",
    "\n",
    "printDiffTable(y, n); \n",
    "\n",
    "# predict Amazon strike price value \n",
    "value = 1770; \n",
    "\n",
    "# printing the value \n",
    "print(\"\\nThe call option price at\", value, \"is\", round(applyFormula(value, x, y, n), 5))"
   ]
  },
  {
   "cell_type": "code",
   "execution_count": null,
   "metadata": {},
   "outputs": [],
   "source": []
  },
  {
   "cell_type": "code",
   "execution_count": null,
   "metadata": {},
   "outputs": [],
   "source": []
  }
 ],
 "metadata": {
  "kernelspec": {
   "display_name": "Python 3",
   "language": "python",
   "name": "python3"
  },
  "language_info": {
   "codemirror_mode": {
    "name": "ipython",
    "version": 3
   },
   "file_extension": ".py",
   "mimetype": "text/x-python",
   "name": "python",
   "nbconvert_exporter": "python",
   "pygments_lexer": "ipython3",
   "version": "3.7.1"
  }
 },
 "nbformat": 4,
 "nbformat_minor": 2
}
